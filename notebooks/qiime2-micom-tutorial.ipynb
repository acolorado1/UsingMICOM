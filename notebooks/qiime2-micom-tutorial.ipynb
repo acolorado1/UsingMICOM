{
 "cells": [
  {
   "cell_type": "markdown",
   "metadata": {},
   "source": [
    "# qiime2-MICOM install + community tutorial \n",
    "From Laurie: created a venv using the .yml files for the qiime distribution and q2-micom addition\n",
    "  - find appropriate qiime distribution .yml [here](https://docs.qiime2.org/2024.5/install/native/) -- I used qiime2-amplicon-2024.5 for macOS (Apple Silicon)\n",
    "  - [q2-micom.yml](https://raw.githubusercontent.com/micom-dev/q2-micom/main/q2-micom.yml)"
   ]
  },
  {
   "cell_type": "code",
   "execution_count": null,
   "metadata": {},
   "outputs": [],
   "source": [
    "#created a new qiime environment with a different name than my base qiime env\n",
    "#just wanted to make sure this doesn't mess up my current install\n",
    "micromamba env -n qiime2-amplicon-micom -f qiime2-amplicon-2024.5-py39-osx-conda.yml  \n",
    "\n",
    "#activate this environment\n",
    "micromamba activate qiime2-amplicon-micom \n",
    "\n",
    "#micromamba doesn't have an update command to update from .yml file\n",
    "#use micromamba install instead\n",
    "#if using conda or mamba, should be able to use update\n",
    "#e.g. conda update -n qiime2-amplicon-micom -f q2-micom.yml\n",
    "micromamba install -f q2-micom.yml"
   ]
  }
 ],
 "metadata": {
  "kernelspec": {
   "display_name": "Python 3",
   "language": "python",
   "name": "python3"
  },
  "language_info": {
   "codemirror_mode": {
    "name": "ipython",
    "version": 3
   },
   "file_extension": ".py",
   "mimetype": "text/x-python",
   "name": "python",
   "nbconvert_exporter": "python",
   "pygments_lexer": "ipython3",
   "version": "3.9.19"
  }
 },
 "nbformat": 4,
 "nbformat_minor": 2
}
